{
  "nbformat": 4,
  "nbformat_minor": 0,
  "metadata": {
    "colab": {
      "name": "Copy of Condition_loop__home_Assignment.ipynb",
      "provenance": [],
      "collapsed_sections": []
    },
    "kernelspec": {
      "name": "python3",
      "display_name": "Python 3"
    },
    "language_info": {
      "name": "python"
    }
  },
  "cells": [
    {
      "cell_type": "code",
      "metadata": {
        "colab": {
          "base_uri": "https://localhost:8080/"
        },
        "id": "hUTL_sJmxUfK",
        "outputId": "aaa8e544-665c-463d-b356-2ae7a5f99e17"
      },
      "source": [
        "# Write a program if user input is greater then 100$ then Go left in a shoping mall and if less then 50$ then take right while if between 50-100$ then go straight \n",
        "\n",
        "x = int(input(\"Please enter price \"))\n",
        "if (x >100):\n",
        "  print(\"Go left!\")\n",
        "elif(x>50 and x<100):\n",
        "  print(\"Go Straight\")\n",
        "else:\n",
        "  print(\"Go right!\")\n",
        "\n"
      ],
      "execution_count": null,
      "outputs": [
        {
          "output_type": "stream",
          "text": [
            "Please enter price 46\n",
            "Go right!\n"
          ],
          "name": "stdout"
        }
      ]
    },
    {
      "cell_type": "code",
      "metadata": {
        "colab": {
          "base_uri": "https://localhost:8080/"
        },
        "id": "9LlFR-hxI-8d",
        "outputId": "653f8b5c-097b-4e35-e468-f263853ccbe0"
      },
      "source": [
        "# Write a program to check weather a person Go for tour or not \n",
        "#Condition For going tour \n",
        "#1. The Day Should be Saturday or Sunday \n",
        "#2. The Day temp should be between 20 C to 30 C\n",
        "\n",
        "x = str(input(\"Enter the day \"))\n",
        "y = int(input(\"Enter the temp \"))\n",
        "\n",
        "if x ==\"Sun\"or x==\"Sat\":\n",
        "  if y>= 20 and y <= 30:\n",
        "    print(\"He will go for tour\")\n",
        "else:\n",
        "  print(\"Dont go!\")    \n",
        "\n",
        "\n"
      ],
      "execution_count": null,
      "outputs": [
        {
          "output_type": "stream",
          "text": [
            "Enter the day mon\n",
            "Enter the temp 45\n",
            "Dont go!\n"
          ],
          "name": "stdout"
        }
      ]
    },
    {
      "cell_type": "code",
      "metadata": {
        "colab": {
          "base_uri": "https://localhost:8080/"
        },
        "id": "iqTL_SlyMyD0",
        "outputId": "5fb95d8f-b86a-4c66-c8d5-a1868fe5d131"
      },
      "source": [
        "#Write a Python program to find those numbers which are divisible by 7 and multiple of 5, between 1500 and 2700 (both included)\n",
        "\n",
        "x = int(input(\"enter the number \"))\n",
        "\n",
        "if x%7 == 0 and x%5 == 0:\n",
        "  if x >= 1500 and x <= 2700: \n",
        "    print(\"Number is divisible\")\n",
        "else:\n",
        "    print(\"Number is not divisible\")"
      ],
      "execution_count": null,
      "outputs": [
        {
          "output_type": "stream",
          "text": [
            "enter the number 3500\n"
          ],
          "name": "stdout"
        }
      ]
    },
    {
      "cell_type": "code",
      "metadata": {
        "id": "Bu6ZIt14MDjv",
        "colab": {
          "base_uri": "https://localhost:8080/"
        },
        "outputId": "e1a4819b-4538-459a-f77d-9985c5e072ce"
      },
      "source": [
        "#Write a Python program to convert temperatures to and from celsius, fahrenheit.\n",
        "#Formula : c/5 = f-32/9 [ where c = temperature in celsius and f = temperature in fahrenheit \n",
        "temp = input(\"Input the  temperature you like to convert: \")\n",
        "degree = int(temp[:-1])\n",
        "in_convention = temp[-1]\n",
        "\n",
        "if in_convention.upper() == \"C\":\n",
        "  result = int(round((9 * degree) / 5 + 32))\n",
        "  out_convention = \"Fahrenheit\"\n",
        "elif in_convention.upper() == \"F\":\n",
        "  result = int(round((degree - 32) * 5 / 9))\n",
        "  out_convention = \"Celsius\"\n",
        "else:\n",
        "  print(\"Input proper convention.\")\n",
        "  quit()\n",
        "print(\"The temperature in\", out_convention, \"is\", result, \"degrees.\")\n",
        "\n",
        "\n"
      ],
      "execution_count": null,
      "outputs": [
        {
          "output_type": "stream",
          "text": [
            "Input the  temperature you like to convert: 23c\n",
            "The temperature in Fahrenheit is 73 degrees.\n"
          ],
          "name": "stdout"
        }
      ]
    },
    {
      "cell_type": "code",
      "metadata": {
        "colab": {
          "base_uri": "https://localhost:8080/"
        },
        "id": "tbhAwGcyOxYB",
        "outputId": "2511fcaf-db7c-47a4-b88a-3586975934de"
      },
      "source": [
        "#Write a Python program to construct the following pattern, using a nested for loop.  (That question is Optional )\n",
        "'''* \n",
        "   * * \n",
        "   * * * \n",
        "   * * * * \n",
        "   * * * * * \n",
        "   * * * * \n",
        "   * * * \n",
        "   * * \n",
        "   *'''\n",
        "\n",
        "x=5;\n",
        "for i in range(x):\n",
        "    for j in range(i):\n",
        "        print('* ', end=\"\")\n",
        "    print(\"\")\n",
        "\n",
        "for i in range(x,0,-1):\n",
        "    for j in range(i):\n",
        "        print('* ', end=\"\")\n",
        "    print(\"\")\n"
      ],
      "execution_count": null,
      "outputs": [
        {
          "output_type": "stream",
          "text": [
            "\n",
            "* \n",
            "* * \n",
            "* * * \n",
            "* * * * \n",
            "* * * * * \n",
            "* * * * \n",
            "* * * \n",
            "* * \n",
            "* \n"
          ],
          "name": "stdout"
        }
      ]
    },
    {
      "cell_type": "code",
      "metadata": {
        "colab": {
          "base_uri": "https://localhost:8080/"
        },
        "id": "qMKo50g1PppW",
        "outputId": "b74f8b46-1615-49fc-b207-bc431b3537bc"
      },
      "source": [
        "# print the 2nd largest number from 3 numbers \n",
        "n1 = int(input(\"Enter first number a : \"))\n",
        "n2 = int(input(\"Enter first number b : \"))\n",
        "n3 = int(input(\"Enter first number c : \"))\n",
        "if n1>n2 and n1<n3:\n",
        " print('a is the 2nd largest number')\n",
        "elif n1<n2 and n2<n3:\n",
        "  print('b is the 2nd largest number')\n",
        "else:\n",
        "  print('c is the 2nd largest number')\n"
      ],
      "execution_count": null,
      "outputs": [
        {
          "output_type": "stream",
          "text": [
            "Enter first number a : 56\n",
            "Enter first number b : 26\n",
            "Enter first number c : 34\n",
            "c is the 2nd largest number\n"
          ],
          "name": "stdout"
        }
      ]
    },
    {
      "cell_type": "code",
      "metadata": {
        "colab": {
          "base_uri": "https://localhost:8080/"
        },
        "id": "WgbmUoLVPgvQ",
        "outputId": "5ac8d966-c7fb-4b49-b305-54ee1f21a6c9"
      },
      "source": [
        "#Given a list, iterate it, and display numbers divisible by five, and if you find a number greater than 150, stop the loop iteration.\n",
        "# list = [115,175,120,151]\n",
        "list = [25,34,75,102,121,85,95,140,150,155]\n",
        "for i in list:\n",
        "  if (i>150):\n",
        "    break\n",
        "  elif i % 5 == 0:\n",
        "    print(i)\n",
        "\n"
      ],
      "execution_count": null,
      "outputs": [
        {
          "output_type": "stream",
          "text": [
            "25\n",
            "75\n",
            "85\n",
            "95\n",
            "140\n",
            "150\n"
          ],
          "name": "stdout"
        }
      ]
    },
    {
      "cell_type": "code",
      "metadata": {
        "colab": {
          "base_uri": "https://localhost:8080/"
        },
        "id": "ZjTtjuHLUu37",
        "outputId": "5ee0766b-ba12-47c4-af41-4c74b1379e60"
      },
      "source": [
        "# Given a number count the total number of digits in a number\n",
        "n = int(input(\"Enter the num \"))\n",
        "count = 0\n",
        "\n",
        "while (n>0):\n",
        "  count = count + 1\n",
        "  n = n//10\n",
        "  \n",
        "print(\"total digits are : \", count)\n",
        "\n"
      ],
      "execution_count": null,
      "outputs": [
        {
          "output_type": "stream",
          "text": [
            "Enter the num 3456\n",
            "total digits are :  4\n"
          ],
          "name": "stdout"
        }
      ]
    },
    {
      "cell_type": "code",
      "metadata": {
        "colab": {
          "base_uri": "https://localhost:8080/"
        },
        "id": "BEbz_FzdVIZw",
        "outputId": "2a94d270-9369-48da-d407-9babfb32905f"
      },
      "source": [
        "#Display a message “Done” after successful execution of for loop\n",
        "x = [23,45,6,7,8]\n",
        "for i in x:\n",
        "  print(i)\n",
        "\n",
        "print('Done !')"
      ],
      "execution_count": null,
      "outputs": [
        {
          "output_type": "stream",
          "text": [
            "23\n",
            "45\n",
            "6\n",
            "7\n",
            "8\n",
            "Done !\n"
          ],
          "name": "stdout"
        }
      ]
    },
    {
      "cell_type": "code",
      "metadata": {
        "colab": {
          "base_uri": "https://localhost:8080/"
        },
        "id": "ZOKQ8XSQVQy1",
        "outputId": "260a2715-2380-4375-90c0-c1029cefe21c"
      },
      "source": [
        "# Write a program to display all prime numbers within a range\n",
        "lower = int(input(\"Enter lower range: \"))\n",
        "upper = int(input(\"Enter upper range: \"))\n",
        "for num in range(lower,upper+1):\n",
        "  if num>1:\n",
        "    for i in range(2,num):\n",
        "      if (num%i) ==0:\n",
        "        break\n",
        "    else:\n",
        "      print(num)\n",
        "\n",
        "\n",
        "\n"
      ],
      "execution_count": null,
      "outputs": [
        {
          "output_type": "stream",
          "text": [
            "Enter lower range: 25\n",
            "Enter upper range: 50\n",
            "29\n",
            "31\n",
            "37\n",
            "41\n",
            "43\n",
            "47\n"
          ],
          "name": "stdout"
        }
      ]
    },
    {
      "cell_type": "code",
      "metadata": {
        "colab": {
          "base_uri": "https://localhost:8080/"
        },
        "id": "8yI8XsWjVZA1",
        "outputId": "ff348a74-a6b5-4a38-cb9e-0d2e064ede33"
      },
      "source": [
        "#Display Fibonacci series up to 10 terms\n",
        "x = int(input(\"enter the nterms \"))\n",
        "n1,n2 = 0,1\n",
        "count = 0\n",
        "if x < 0:\n",
        "  print(\"enter a positive number\")\n",
        "elif x == 0:\n",
        "  print(n1)\n",
        "else:\n",
        "  print(\"Fibonacci sequence: \")\n",
        "  while count<x:\n",
        "    print(n1)\n",
        "    nth = n2 + n1\n",
        "    n1 = n2\n",
        "    n2 = nth\n",
        "    count += 1"
      ],
      "execution_count": null,
      "outputs": [
        {
          "output_type": "stream",
          "text": [
            "enter the nterms 4\n",
            "Fibonacci sequence: \n",
            "0\n",
            "1\n",
            "1\n",
            "2\n"
          ],
          "name": "stdout"
        }
      ]
    },
    {
      "cell_type": "code",
      "metadata": {
        "colab": {
          "base_uri": "https://localhost:8080/"
        },
        "id": "TIwDlxpVVk_E",
        "outputId": "122a89da-b33c-474b-adcf-cc6c937244af"
      },
      "source": [
        "# Display the cube of the number up to a given integer\n",
        "x = int (input(\"Enter the number \"))\n",
        "for i in range(1,x+1):\n",
        "  \n",
        "  print(i**3)\n"
      ],
      "execution_count": null,
      "outputs": [
        {
          "output_type": "stream",
          "text": [
            "Enter the number 5\n",
            "1\n",
            "8\n",
            "27\n",
            "64\n",
            "125\n"
          ],
          "name": "stdout"
        }
      ]
    }
  ]
}