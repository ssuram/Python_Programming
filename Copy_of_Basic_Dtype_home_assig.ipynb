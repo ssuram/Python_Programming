{
  "nbformat": 4,
  "nbformat_minor": 0,
  "metadata": {
    "colab": {
      "name": "Copy of Basic_Dtype_home_assig.ipynb",
      "provenance": [],
      "collapsed_sections": []
    },
    "kernelspec": {
      "name": "python3",
      "display_name": "Python 3"
    },
    "language_info": {
      "name": "python"
    }
  },
  "cells": [
    {
      "cell_type": "code",
      "metadata": {
        "id": "zj0qj9Z3vGYT",
        "colab": {
          "base_uri": "https://localhost:8080/"
        },
        "outputId": "29eb98c9-fa23-4980-dbfa-262e98e89daa"
      },
      "source": [
        "# print the type of x,y,z\n",
        "\n",
        "x = 1  \n",
        "y = 2.8  \n",
        "z = 1j\n",
        "\n",
        "print(type(x))\n",
        "print(type(y) )\n",
        "print(type(z))"
      ],
      "execution_count": null,
      "outputs": [
        {
          "output_type": "stream",
          "text": [
            "<class 'int'>\n",
            "<class 'float'>\n",
            "<class 'complex'>\n"
          ],
          "name": "stdout"
        }
      ]
    },
    {
      "cell_type": "code",
      "metadata": {
        "colab": {
          "base_uri": "https://localhost:8080/"
        },
        "id": "AljHnQDuvT4s",
        "outputId": "ee7464e4-0cb3-4168-e91f-a07a009ea900"
      },
      "source": [
        "# Convert flot into int \n",
        "\n",
        "X=1.4\n",
        "x=int(1.4) \n",
        "print(x)"
      ],
      "execution_count": null,
      "outputs": [
        {
          "output_type": "stream",
          "text": [
            "1\n"
          ],
          "name": "stdout"
        }
      ]
    },
    {
      "cell_type": "code",
      "metadata": {
        "id": "pXCgmrggvfKE",
        "colab": {
          "base_uri": "https://localhost:8080/"
        },
        "outputId": "9707d3fe-f468-4b7f-f213-79e1e2889c1d"
      },
      "source": [
        "#Convert from one type to another:\n",
        "\n",
        "x = 5   # int\n",
        "y = 3.8  # float\n",
        "z = 5j   # complex\n",
        "\n",
        "#convert from int to float:\n",
        "x= float(5)\n",
        "print(x)\n",
        "\n",
        "\n",
        "#convert from float to int:\n",
        "y= int(3.8)\n",
        "print(y)\n",
        "\n",
        "\n",
        "#convert from int to complex:\n",
        "z= complex(5j)\n",
        "print(z)\n"
      ],
      "execution_count": null,
      "outputs": [
        {
          "output_type": "stream",
          "text": [
            "5.0\n",
            "3\n",
            "5j\n"
          ],
          "name": "stdout"
        }
      ]
    },
    {
      "cell_type": "code",
      "metadata": {
        "id": "Rm34yvYbweTT",
        "colab": {
          "base_uri": "https://localhost:8080/"
        },
        "outputId": "908119c8-2523-4b5f-b6fc-8d0cbd31c973"
      },
      "source": [
        "# Print 15 random numbers\n",
        "\n",
        "import random \n",
        "\n",
        "print(random.randrange(1, 15) )"
      ],
      "execution_count": null,
      "outputs": [
        {
          "output_type": "stream",
          "text": [
            "13\n"
          ],
          "name": "stdout"
        }
      ]
    },
    {
      "cell_type": "code",
      "metadata": {
        "id": "eXkc7b3yxYpN",
        "colab": {
          "base_uri": "https://localhost:8080/"
        },
        "outputId": "38837d90-dadc-4dc2-b6f9-573b46f57bc6"
      },
      "source": [
        "# Convert int ,float to string \n",
        "\n",
        "x = str(\"t5\") \n",
        "print(x)\n",
        "y = str(4)\n",
        "print(y)    \n",
        "z = str(6.0)\n",
        "print(z)\n",
        "print(type(x))\n",
        "print(type(y))\n",
        "print(type(z))\n",
        "\n"
      ],
      "execution_count": null,
      "outputs": [
        {
          "output_type": "stream",
          "text": [
            "t5\n",
            "4\n",
            "6.0\n",
            "<class 'str'>\n",
            "<class 'str'>\n",
            "<class 'str'>\n"
          ],
          "name": "stdout"
        }
      ]
    },
    {
      "cell_type": "code",
      "metadata": {
        "id": "RDquS0nfxB81",
        "colab": {
          "base_uri": "https://localhost:8080/"
        },
        "outputId": "9db07b90-eb41-4f4b-b935-f583a5b8eed2"
      },
      "source": [
        "# Assign a string to variable \n",
        "\n",
        "a=\"I love Machine Learning\"\n",
        "print(a)"
      ],
      "execution_count": null,
      "outputs": [
        {
          "output_type": "stream",
          "text": [
            "I love Machine Learning\n"
          ],
          "name": "stdout"
        }
      ]
    },
    {
      "cell_type": "code",
      "metadata": {
        "colab": {
          "base_uri": "https://localhost:8080/"
        },
        "id": "RH-g9oUdypcy",
        "outputId": "31dcbe2a-1db4-4611-f1a2-f6d022ce7776"
      },
      "source": [
        "# Concatenate two string \n",
        "a=\"Hello raj?\"\n",
        "b=\"Hi Manish.\"\n",
        "c=\"How are you.\"\n",
        "d=\"I am fine.\"\n",
        "\n",
        "print(a+b+c+d)"
      ],
      "execution_count": null,
      "outputs": [
        {
          "output_type": "stream",
          "text": [
            "Hello raj?Hi Manish.How are you.I am fine.\n"
          ],
          "name": "stdout"
        }
      ]
    },
    {
      "cell_type": "code",
      "metadata": {
        "colab": {
          "base_uri": "https://localhost:8080/",
          "height": 35
        },
        "id": "Z4z8NPqxzXsS",
        "outputId": "ffde94dc-4cbc-4d86-d1aa-697c9f442830"
      },
      "source": [
        "# Print the output='lo, Wor'\n",
        "a = \"Hello, World!\"\n",
        "a[-10:-3]"
      ],
      "execution_count": null,
      "outputs": [
        {
          "output_type": "execute_result",
          "data": {
            "application/vnd.google.colaboratory.intrinsic+json": {
              "type": "string"
            },
            "text/plain": [
              "'lo, Wor'"
            ]
          },
          "metadata": {
            "tags": []
          },
          "execution_count": 18
        }
      ]
    },
    {
      "cell_type": "code",
      "metadata": {
        "id": "maTfRVHrzA-2",
        "colab": {
          "base_uri": "https://localhost:8080/"
        },
        "outputId": "9794f0cf-159c-4714-dca1-232244bc0712"
      },
      "source": [
        "# Check the required string/word is in the sentence of not\n",
        "\n",
        "sentence=\"Hello Indian , I like you culture.\"\n",
        "word = \"like\"\n",
        "if word in sentence:\n",
        "  print('Yes word found!') "
      ],
      "execution_count": null,
      "outputs": [
        {
          "output_type": "stream",
          "text": [
            "Yes word found!\n"
          ],
          "name": "stdout"
        }
      ]
    },
    {
      "cell_type": "code",
      "metadata": {
        "id": "eyFT8KlO0cMk",
        "colab": {
          "base_uri": "https://localhost:8080/",
          "height": 35
        },
        "outputId": "e82e4510-f2f8-4ff1-9a0c-4c7a41c0bed9"
      },
      "source": [
        "# Print the output='I Love'\n",
        "Sentence=\"I Love India!\"\n",
        "(Sentence[:6])"
      ],
      "execution_count": null,
      "outputs": [
        {
          "output_type": "execute_result",
          "data": {
            "application/vnd.google.colaboratory.intrinsic+json": {
              "type": "string"
            },
            "text/plain": [
              "'I Love'"
            ]
          },
          "metadata": {
            "tags": []
          },
          "execution_count": 21
        }
      ]
    },
    {
      "cell_type": "code",
      "metadata": {
        "id": "VP50WkkomLu8",
        "colab": {
          "base_uri": "https://localhost:8080/"
        },
        "outputId": "54e7b727-252a-489e-9ec7-04a365dcb2f4"
      },
      "source": [
        "#print the output: \n",
        "#I want to pay 49.95 dollars for 3 pieces of item 567\n",
        "\n",
        "quantity = 3\n",
        "itemno = 567\n",
        "price = 49.95\n",
        "myorder = \"I want to pay {} dollars for {} pieces of item {}.\"\n",
        "print(myorder.format(price, quantity, itemno)) "
      ],
      "execution_count": null,
      "outputs": [
        {
          "output_type": "stream",
          "text": [
            "I want to pay 49.95 dollars for 3 pieces of item 567.\n"
          ],
          "name": "stdout"
        }
      ]
    },
    {
      "cell_type": "code",
      "metadata": {
        "id": "fcLAtZJUn8dP",
        "colab": {
          "base_uri": "https://localhost:8080/"
        },
        "outputId": "eacf34a1-e396-4a2a-dc7c-0acc07b1db20"
      },
      "source": [
        "# remove the error\n",
        "Sent = \"We will vist America after two days.\"\n",
        "print(Sent)"
      ],
      "execution_count": null,
      "outputs": [
        {
          "output_type": "stream",
          "text": [
            "We will vist America after two days.\n"
          ],
          "name": "stdout"
        }
      ]
    },
    {
      "cell_type": "code",
      "metadata": {
        "colab": {
          "base_uri": "https://localhost:8080/"
        },
        "id": "NASyDsBbofMs",
        "outputId": "7ef0ea76-1ea7-42cd-b9a1-aba804b3f741"
      },
      "source": [
        "# Print the sentence after comma in next line \n",
        "Sent=\" Hii Mona ,\\n When will we go for holidays ?  \"\n",
        "print(Sent)"
      ],
      "execution_count": null,
      "outputs": [
        {
          "output_type": "stream",
          "text": [
            " Hii Mona ,\n",
            " When will we go for holidays ?  \n"
          ],
          "name": "stdout"
        }
      ]
    },
    {
      "cell_type": "code",
      "metadata": {
        "id": "QGOrGORspHnt",
        "colab": {
          "base_uri": "https://localhost:8080/"
        },
        "outputId": "7f184edb-2e8f-4c38-8dc0-e3ff4a208ca8"
      },
      "source": [
        "# Remove the duplicate from the list \n",
        "List=[\"Ram\",'Sam','Nick','Sam']\n",
        "List = list(dict.fromkeys(List))\n",
        "print(List)"
      ],
      "execution_count": null,
      "outputs": [
        {
          "output_type": "stream",
          "text": [
            "['Ram', 'Sam', 'Nick']\n"
          ],
          "name": "stdout"
        }
      ]
    },
    {
      "cell_type": "code",
      "metadata": {
        "id": "eZfO5og7qk56",
        "colab": {
          "base_uri": "https://localhost:8080/"
        },
        "outputId": "971ae52a-fe0c-4ade-bbf0-fd2115b9a4db"
      },
      "source": [
        "# Print last for element of list by negative Indexing \n",
        "\n",
        "Fruit_list = [\"apple\", \"banana\", \"cherry\", \"orange\", \"kiwi\", \"melon\", \"mango\"]\n",
        "print(Fruit_list[-1:])"
      ],
      "execution_count": null,
      "outputs": [
        {
          "output_type": "stream",
          "text": [
            "['mango']\n"
          ],
          "name": "stdout"
        }
      ]
    },
    {
      "cell_type": "code",
      "metadata": {
        "id": "mPJFzwewrEij",
        "colab": {
          "base_uri": "https://localhost:8080/"
        },
        "outputId": "55379b73-d121-4d71-fa64-209b44177895"
      },
      "source": [
        "# Replace the first Sam from Micky\n",
        "List=[\"Ram\",'Sam','Nick','Sam']\n",
        "List[1]= \"Micky\"\n",
        "print(List)\n"
      ],
      "execution_count": null,
      "outputs": [
        {
          "output_type": "stream",
          "text": [
            "['Ram', 'Micky', 'Nick', 'Sam']\n"
          ],
          "name": "stdout"
        }
      ]
    },
    {
      "cell_type": "code",
      "metadata": {
        "id": "pSGdFz2srUMA",
        "colab": {
          "base_uri": "https://localhost:8080/"
        },
        "outputId": "83905389-91ef-4715-e39e-2ebd9a1db690"
      },
      "source": [
        "# Insert the Micky at 3rd index\n",
        "List=[\"Ram\",'Sam','Nick','Sam']\n",
        "List.insert(3,\"Micky\")\n",
        "print(List)"
      ],
      "execution_count": null,
      "outputs": [
        {
          "output_type": "stream",
          "text": [
            "['Ram', 'Sam', 'Nick', 'Micky', 'Sam']\n"
          ],
          "name": "stdout"
        }
      ]
    },
    {
      "cell_type": "code",
      "metadata": {
        "id": "VwK2FyRrroiY",
        "colab": {
          "base_uri": "https://localhost:8080/"
        },
        "outputId": "c6dc6bf6-4b3c-4b4b-a177-1caf2350443c"
      },
      "source": [
        "# Insert Kiwi in a tuple\n",
        "\n",
        "x = (\"apple\", \"banana\", \"cherry\")\n",
        "y = list(x)\n",
        "y.insert(3, \"kiwi\")\n",
        "x = tuple(y)\n",
        "\n",
        "print(x)\n",
        "print(type(x))\n"
      ],
      "execution_count": null,
      "outputs": [
        {
          "output_type": "stream",
          "text": [
            "('apple', 'banana', 'cherry', 'kiwi')\n",
            "<class 'tuple'>\n"
          ],
          "name": "stdout"
        }
      ]
    },
    {
      "cell_type": "code",
      "metadata": {
        "id": "UUky7WT4tnRM",
        "colab": {
          "base_uri": "https://localhost:8080/"
        },
        "outputId": "976a660d-da58-46db-f4c3-16ae6aef9936"
      },
      "source": [
        "# Add item in set\n",
        "\n",
        "Fruits = {\"apple\", \"banana\", \"cherry\"}\n",
        "\n",
        "Fruits.add(\"cranberry\")\n",
        "\n",
        "print(Fruits)"
      ],
      "execution_count": null,
      "outputs": [
        {
          "output_type": "stream",
          "text": [
            "{'apple', 'cherry', 'banana', 'cranberry'}\n"
          ],
          "name": "stdout"
        }
      ]
    },
    {
      "cell_type": "code",
      "metadata": {
        "id": "NKHoF69hueSK",
        "colab": {
          "base_uri": "https://localhost:8080/"
        },
        "outputId": "3e23fecf-1626-4e5f-cbe2-aca788bfcff4"
      },
      "source": [
        "# Add two set\n",
        "Fruit1 = {\"apple\", \"banana\", \"cherry\"}\n",
        "Fruit2 = {\"pineapple\", \"mango\", \"papaya\"}\n",
        "Fruit1 |= Fruit2\n",
        "print(Fruit1)\n"
      ],
      "execution_count": null,
      "outputs": [
        {
          "output_type": "stream",
          "text": [
            "{'apple', 'mango', 'cherry', 'banana', 'pineapple', 'papaya'}\n"
          ],
          "name": "stdout"
        }
      ]
    },
    {
      "cell_type": "code",
      "metadata": {
        "id": "Z5YUZ2dUvbwK",
        "colab": {
          "base_uri": "https://localhost:8080/"
        },
        "outputId": "0f402a31-0998-4769-c626-a2f2d20b9485"
      },
      "source": [
        "# Remove the any item from the set\n",
        "Set={\"Krishh\",\"Prince\",\"KUmar\"}\n",
        "Set.remove('Prince')\n",
        "print(Set)"
      ],
      "execution_count": null,
      "outputs": [
        {
          "output_type": "stream",
          "text": [
            "{'KUmar', 'Krishh'}\n"
          ],
          "name": "stdout"
        }
      ]
    },
    {
      "cell_type": "code",
      "metadata": {
        "id": "_f_XIOsVvtz5",
        "colab": {
          "base_uri": "https://localhost:8080/"
        },
        "outputId": "7384c6cb-b69c-4b34-8b1e-cacaef68b9dc"
      },
      "source": [
        "#Add a new item to the original dictionary, and see that the keys list gets updated as well:\n",
        "Bike = {\n",
        "\"brand\": \"Bajaj\",\n",
        "\"model\": \"TVS\",\n",
        "\"year\": 2013\n",
        "}\n",
        "\n",
        "x = Bike.keys()\n",
        "\n",
        "print(x) #before the change\n",
        "\n",
        "Bike[\"Engine_type\"] = \"160cc\"\n",
        "x = Bike.keys()\n",
        "\n",
        "print(x) #after the change"
      ],
      "execution_count": null,
      "outputs": [
        {
          "output_type": "stream",
          "text": [
            "dict_keys(['brand', 'model', 'year'])\n",
            "dict_keys(['brand', 'model', 'year', 'Engine_type'])\n"
          ],
          "name": "stdout"
        }
      ]
    },
    {
      "cell_type": "code",
      "metadata": {
        "id": "m8OtEPYfwaqX",
        "colab": {
          "base_uri": "https://localhost:8080/"
        },
        "outputId": "c9b3e3a9-8b21-409f-d52e-33273f185fef"
      },
      "source": [
        "#Update the item from the Dict\n",
        "Car = {\n",
        "  \"brand\": \"Ford\",\n",
        "  \"model\": \"Mustang\",\n",
        "  \"year\": 1964\n",
        "}\n",
        "Car.update({\"year\": 2020})\n",
        "print(Car)"
      ],
      "execution_count": null,
      "outputs": [
        {
          "output_type": "stream",
          "text": [
            "{'brand': 'Ford', 'model': 'Mustang', 'year': 2020}\n"
          ],
          "name": "stdout"
        }
      ]
    },
    {
      "cell_type": "code",
      "metadata": {
        "id": "IknZvic6wvIo",
        "colab": {
          "base_uri": "https://localhost:8080/"
        },
        "outputId": "e5df1e4c-dc55-4465-b5f3-690f2a9d39a5"
      },
      "source": [
        "#remove a item from set\n",
        "car = {\n",
        "  \"brand\": \"Ford\",\n",
        "  \"model\": \"Mustang\",\n",
        "  \"year\": 1964\n",
        "}\n",
        "car.pop(\"brand\")\n",
        "print(car)"
      ],
      "execution_count": null,
      "outputs": [
        {
          "output_type": "stream",
          "text": [
            "{'model': 'Mustang', 'year': 1964}\n"
          ],
          "name": "stdout"
        }
      ]
    }
  ]
}