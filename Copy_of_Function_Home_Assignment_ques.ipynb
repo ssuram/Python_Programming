{
  "nbformat": 4,
  "nbformat_minor": 0,
  "metadata": {
    "colab": {
      "name": "Copy of Function_Home_Assignment_ques.ipynb",
      "provenance": [],
      "collapsed_sections": []
    },
    "kernelspec": {
      "name": "python3",
      "display_name": "Python 3"
    },
    "language_info": {
      "name": "python"
    }
  },
  "cells": [
    {
      "cell_type": "code",
      "metadata": {
        "colab": {
          "base_uri": "https://localhost:8080/"
        },
        "id": "xptnxiL6W9g8",
        "outputId": "688613d3-7626-4c6d-c5c2-59f7cc07124a"
      },
      "source": [
        "# Create a function that can accept two arguments name and age and print its value\n",
        "def Details(name:str,age:int):\n",
        "  print(name, age)\n",
        "\n",
        "Details(\"aditya\",24)\n",
        "\n",
        "\n",
        "\n",
        "\n",
        "  "
      ],
      "execution_count": null,
      "outputs": [
        {
          "output_type": "stream",
          "text": [
            "aditya 24\n"
          ],
          "name": "stdout"
        }
      ]
    },
    {
      "cell_type": "code",
      "metadata": {
        "colab": {
          "base_uri": "https://localhost:8080/"
        },
        "id": "wWJ9LDlLeQ7A",
        "outputId": "3465f409-468d-4e63-a45e-13371b90f025"
      },
      "source": [
        "#Write a function calculation() such that it can accept two variables and calculate the addition and subtraction of them. And also it must return both addition and subtraction in a single return call\n",
        "\n",
        "def calculation(n1:int, n2:int):\n",
        "  print(n1+n2, n1-n2)\n",
        "\n",
        "n1 = int(input(\"Enter the number \"))\n",
        "n2 = int(input(\"Enter the number \"))\n",
        "\n",
        "calculation(n1,n2)"
      ],
      "execution_count": null,
      "outputs": [
        {
          "output_type": "stream",
          "text": [
            "Enter the number 23\n",
            "Enter the number 21\n",
            "44 2\n"
          ],
          "name": "stdout"
        }
      ]
    },
    {
      "cell_type": "code",
      "metadata": {
        "colab": {
          "base_uri": "https://localhost:8080/"
        },
        "id": "P6RQQbAVepll",
        "outputId": "d40bf48f-3d39-40bc-e5b6-a688ff7e93da"
      },
      "source": [
        "#Create a function showEmployee() in such a way that it should accept employee name, and its salary and display both. If the salary is missing in the function call assign default value 9000 to salary\n",
        "\n",
        "\n",
        "def showEmployee(name:str,salary = 9000):\n",
        "  print(name, salary)\n",
        "\n",
        "showEmployee(\"Aditya\",)\n"
      ],
      "execution_count": null,
      "outputs": [
        {
          "output_type": "stream",
          "text": [
            "Aditya 9000\n"
          ],
          "name": "stdout"
        }
      ]
    },
    {
      "cell_type": "code",
      "metadata": {
        "colab": {
          "base_uri": "https://localhost:8080/"
        },
        "id": "2w4heDEZe8pr",
        "outputId": "b178e975-4d7a-46fd-fdef-3fb9e752f341"
      },
      "source": [
        "'''Create an inner function to calculate the addition in the following way\n",
        "Create an outer function that will accept two parameters, a and b\n",
        "Create an inner function inside an outer function that will calculate the addition of a and b\n",
        "At last, an outer function will add 5 into addition and return it'''\n",
        "\n",
        "def func1(x,y):\n",
        "  def sum1(x,y):\n",
        "    return x+y\n",
        "  result = sum1(x,y) + 5\n",
        "  return result\n",
        "\n",
        "func1(4,5)\n"
      ],
      "execution_count": null,
      "outputs": [
        {
          "output_type": "execute_result",
          "data": {
            "text/plain": [
              "14"
            ]
          },
          "metadata": {
            "tags": []
          },
          "execution_count": 32
        }
      ]
    },
    {
      "cell_type": "code",
      "metadata": {
        "colab": {
          "base_uri": "https://localhost:8080/"
        },
        "id": "EEy02CoNe550",
        "outputId": "35df7967-b156-4db0-8c95-92b0a7976f2c"
      },
      "source": [
        "#Assign a different name to function and call it through the new name\n",
        "\n",
        "def showEmployee(name:str,salary = 9000):\n",
        "  print(name, salary)\n",
        "\n",
        "funct1 = showEmployee\n",
        "\n",
        "funct1(\"Aditya\",)\n",
        "\n"
      ],
      "execution_count": null,
      "outputs": [
        {
          "output_type": "stream",
          "text": [
            "Aditya 9000\n"
          ],
          "name": "stdout"
        }
      ]
    },
    {
      "cell_type": "code",
      "metadata": {
        "colab": {
          "base_uri": "https://localhost:8080/"
        },
        "id": "k9E68nlOfs7S",
        "outputId": "0aa3fd52-da10-4b69-ed3c-3cb62a98ee8a"
      },
      "source": [
        "# Write a recursive function to calculate the sum of numbers from 0 to 10\n",
        "\n",
        "def addition(n):\n",
        "  if n<= 1:\n",
        "    return n\n",
        "  return n + addition(n-1)\n",
        "\n",
        "\n",
        "print(addition(2))\n",
        "\n",
        "\n",
        "\n",
        "\n"
      ],
      "execution_count": null,
      "outputs": [
        {
          "output_type": "stream",
          "text": [
            "3\n"
          ],
          "name": "stdout"
        }
      ]
    }
  ]
}